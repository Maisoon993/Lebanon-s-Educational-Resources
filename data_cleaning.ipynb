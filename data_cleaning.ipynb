{
 "cells": [
  {
   "cell_type": "code",
   "execution_count": 1,
   "id": "25749dc9",
   "metadata": {},
   "outputs": [],
   "source": [
    "import pandas as pd\n",
    "import numpy as np\n",
    "import scipy as sp\n",
    "import chart_studio.plotly as py\n",
    "import plotly.express as px\n",
    "import requests\n",
    "\n",
    "df = pd.read_csv('https://linked.aub.edu.lb/pkgcube/data/475ce9a5aab198af0e1c14a3cb63e4e7.csv')"
   ]
  },
  {
   "cell_type": "code",
   "execution_count": null,
   "id": "ed2eb93d",
   "metadata": {},
   "outputs": [],
   "source": [
    "# create Governorate column from refArea\n",
    "df['Governorate'] = (\n",
    "    df[\"refArea\"]\n",
    "    .str.split(\"/\")\n",
    "    .str[-1]                # take last part after /\n",
    "    .str.replace(\"_\", \" \")  # replace underscores with spaces\n",
    ")\n",
    "\n",
    "# clean Miniyehâ\\x80\\x93Danniyeh District to Miniyeh-Danniyeh District\n",
    "df['Governorate'] = df['Governorate'].replace(\n",
    "    {'Miniyehâ\\x80\\x93Danniyeh District': 'Miniyeh-Danniyeh District'}\n",
    ")"
   ]
  },
  {
   "cell_type": "code",
   "execution_count": null,
   "id": "84f86171",
   "metadata": {},
   "outputs": [],
   "source": [
    "# Replace 'Aain' with 'Ain' in the 'Town' column to be able to get the coordinates of these towns\n",
    "df['Town'] = df['Town'].str.replace('Aain', 'Ain')"
   ]
  },
  {
   "cell_type": "code",
   "execution_count": null,
   "id": "b633858a",
   "metadata": {},
   "outputs": [],
   "source": [
    "# Get coordinates of Towns\n",
    "## NOTE: this takes a lot of time to execute\n",
    "\n",
    "from geopy.geocoders import Nominatim\n",
    "\n",
    "geolocator = Nominatim(user_agent=\"edu_map\")\n",
    "\n",
    "# Function to get lat/lon\n",
    "def get_coordinates(town):\n",
    "    try:\n",
    "        location = geolocator.geocode(f\"{town}, Lebanon\")\n",
    "        if location:\n",
    "            return pd.Series([location.latitude, location.longitude])\n",
    "        else:\n",
    "            return pd.Series([None, None])\n",
    "    except:\n",
    "        return pd.Series([None, None])\n",
    "\n",
    "# Apply to towns in df\n",
    "df[[\"lat\", \"lon\"]] = df[\"Town\"].apply(get_coordinates)"
   ]
  },
  {
   "cell_type": "code",
   "execution_count": null,
   "id": "074e06a9",
   "metadata": {},
   "outputs": [],
   "source": [
    "# Function to get the population for each Governorate from dbpedia\n",
    "def get_population_est(ref_area):\n",
    "    \"\"\"\n",
    "    Fetch population estimate from DBpedia JSON for a given refArea.\n",
    "    \"\"\"\n",
    "    url = f\"https://dbpedia.org/data/{ref_area.replace(' ', '_')}.json\"\n",
    "    entity = f\"http://dbpedia.org/resource/{ref_area.replace(' ', '_')}\"\n",
    "    \n",
    "    try:\n",
    "        response = requests.get(url)\n",
    "        response.raise_for_status()  # Ensure we catch HTTP errors\n",
    "        data = response.json()\n",
    "        \n",
    "        if entity in data:\n",
    "            props = data[entity]\n",
    "            # Try both common population properties\n",
    "            for key in [\"http://dbpedia.org/property/populationEst\",\n",
    "                        \"http://dbpedia.org/ontology/populationTotal\"]:\n",
    "                if key in props:\n",
    "                    return props[key][0][\"value\"]\n",
    "        return None\n",
    "    except Exception as e:\n",
    "        print(f\"Error fetching {ref_area}: {e}\")\n",
    "        return None\n",
    "    \n",
    "df[\"population\"] = df[\"Governorate\"].apply(get_population_est)"
   ]
  },
  {
   "cell_type": "code",
   "execution_count": null,
   "id": "42987018",
   "metadata": {},
   "outputs": [],
   "source": [
    "df.to_csv('data_clean.csv')"
   ]
  }
 ],
 "metadata": {
  "kernelspec": {
   "display_name": "Python 3",
   "language": "python",
   "name": "python3"
  },
  "language_info": {
   "codemirror_mode": {
    "name": "ipython",
    "version": 3
   },
   "file_extension": ".py",
   "mimetype": "text/x-python",
   "name": "python",
   "nbconvert_exporter": "python",
   "pygments_lexer": "ipython3",
   "version": "3.13.3"
  }
 },
 "nbformat": 4,
 "nbformat_minor": 5
}
